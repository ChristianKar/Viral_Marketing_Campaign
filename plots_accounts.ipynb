{
 "cells": [
  {
   "cell_type": "code",
   "execution_count": 1,
   "metadata": {},
   "outputs": [],
   "source": [
    "import pandas as pd\n",
    "import numpy as np\n",
    "from os import getcwd\n",
    "import matplotlib.pyplot as plt\n",
    "import plotly.graph_objects as go\n",
    "from ast import literal_eval\n",
    "from user_agents import parse\n",
    "from collections import Counter"
   ]
  },
  {
   "cell_type": "markdown",
   "metadata": {},
   "source": [
    "### Set the path and import data"
   ]
  },
  {
   "cell_type": "code",
   "execution_count": 2,
   "metadata": {},
   "outputs": [],
   "source": [
    "CURR_PATH = getcwd()\n",
    "# # The above command will give us the current working directory.\n",
    "PATH_DATA = CURR_PATH + \"/data/new/\"\n",
    "\n",
    "# accounts_data = pd.read_csv(PATH_DATA + \"instagram_accounts.csv\",converters={'id_followers': literal_eval, 'department': literal_eval})\n",
    "# posts_data = pd.read_csv(PATH_DATA + \"instagram_posts.csv\")"
   ]
  },
  {
   "cell_type": "code",
   "execution_count": 3,
   "metadata": {},
   "outputs": [],
   "source": [
    "accounts_data = pd.read_csv(PATH_DATA + \"instagram_accounts.csv\", converters={'id_followers': literal_eval, 'department': literal_eval})\n",
    "posts_data = pd.read_csv(PATH_DATA + \"instagram_posts.csv\")\n",
    "posts_data1 = posts_data.head(1193)\n",
    "posts_data_2 = posts_data[1194:]"
   ]
  },
  {
   "cell_type": "markdown",
   "metadata": {},
   "source": [
    "### First Visualiation of the data"
   ]
  },
  {
   "cell_type": "code",
   "execution_count": 4,
   "metadata": {},
   "outputs": [
    {
     "name": "stdout",
     "output_type": "stream",
     "text": [
      "   Unnamed: 0  id_user  nb_followers  nb_following  nb_posts     sex  \\\n",
      "0           0   288877           167           161        48  female   \n",
      "1           1   140311            67           150         8  female   \n",
      "2           2   182096           142           161        14  female   \n",
      "3           3   208875           249           164       150    male   \n",
      "4           4   960092            95           162        19  female   \n",
      "\n",
      "                                        id_followers  \\\n",
      "0  [738818, 134147, 314454, 977416, 926730, 82740...   \n",
      "1  [380289, 341188, 775558, 998151, 246792, 17869...   \n",
      "2  [524806, 968200, 241324, 233490, 188948, 15054...   \n",
      "3  [776192, 164353, 989698, 134147, 305670, 65792...   \n",
      "4  [858624, 896013, 138779, 817185, 854563, 88580...   \n",
      "\n",
      "                   department                   email  \\\n",
      "0  (64, Pyrénées-Atlantiques)  zacharieweber@live.com   \n",
      "1                (03, Allier)   hugues65@fontaine.com   \n",
      "2                  (27, Eure)       gilles11@live.com   \n",
      "3         (22, Côtes-d'Armor)    manoncolin@gmail.com   \n",
      "4          (74, Haute-Savoie)  valerie79@guichard.com   \n",
      "\n",
      "                                          user_agent birth_date  age  \n",
      "0  Mozilla/5.0 (Macintosh; U; PPC Mac OS X 10_10_...   06/22/82   39  \n",
      "1  Opera/9.55.(X11; Linux i686; wo-SN) Presto/2.9...   01/06/96   26  \n",
      "2  Mozilla/5.0 (Windows; U; Windows NT 4.0) Apple...   07/22/61   60  \n",
      "3  Mozilla/5.0 (Windows NT 4.0; nds-NL; rv:1.9.1....   03/14/75   46  \n",
      "4  Mozilla/5.0 (Android 3.2.1; Mobile; rv:12.0) G...   07/26/67   54  \n"
     ]
    }
   ],
   "source": [
    "print(accounts_data.head())"
   ]
  },
  {
   "cell_type": "markdown",
   "metadata": {},
   "source": [
    "### Sex Data"
   ]
  },
  {
   "cell_type": "code",
   "execution_count": 5,
   "metadata": {},
   "outputs": [
    {
     "data": {
      "text/plain": [
       "female    1550\n",
       "male      1495\n",
       "Name: sex, dtype: int64"
      ]
     },
     "execution_count": 5,
     "metadata": {},
     "output_type": "execute_result"
    }
   ],
   "source": [
    "accounts_data['sex'].value_counts()"
   ]
  },
  {
   "cell_type": "markdown",
   "metadata": {},
   "source": [
    "### Department Data"
   ]
  },
  {
   "cell_type": "code",
   "execution_count": 6,
   "metadata": {},
   "outputs": [],
   "source": [
    "dt = accounts_data['department'].value_counts().sort_values(ascending=False).to_frame()\n",
    "dt.reset_index(level=0, inplace=True)\n",
    "dt.rename({'department':'count', 'index':'department'}, axis='columns', inplace=True)\n",
    "#print(dt)\n",
    "#print(dt.values[0,0][0])\n",
    "\n",
    "import csv\n",
    "\n",
    "# todo we need here to change the encoding.\n",
    "\n",
    "with open('Department_data.csv', 'w', encoding='UTF-8', newline='') as f:\n",
    "    writer = csv.writer(f)\n",
    "    header = ['Department_Code', 'Department_Name', 'Number_of_Individuals']\n",
    "\n",
    "    # write the header\n",
    "    writer.writerow(header)\n",
    "\n",
    "    ls =[]\n",
    "    for i in range(len(dt)):\n",
    "        ls.append([dt.values[i,0][0]])\n",
    "        # write the data\n",
    "\n",
    "        writer.writerow([dt.values[i,0][0], dt.values[i,0][1], dt.values[i,1]])\n",
    "\n",
    "# close the file\n",
    "f.close()\n"
   ]
  },
  {
   "cell_type": "markdown",
   "metadata": {},
   "source": [
    "### Number of followers!"
   ]
  },
  {
   "cell_type": "code",
   "execution_count": 7,
   "metadata": {},
   "outputs": [
    {
     "data": {
      "image/png": "[encoded data removed]",
      "text/plain": [
       "<Figure size 432x288 with 1 Axes>"
      ]
     },
     "metadata": {
      "needs_background": "light"
     },
     "output_type": "display_data"
    },
    {
     "data": {
      "text/plain": [
       "count    3045.000000\n",
       "mean      160.211166\n",
       "std        51.991272\n",
       "min        60.000000\n",
       "25%       115.000000\n",
       "50%       159.000000\n",
       "75%       205.000000\n",
       "max       255.000000\n",
       "Name: nb_followers, dtype: float64"
      ]
     },
     "execution_count": 7,
     "metadata": {},
     "output_type": "execute_result"
    }
   ],
   "source": [
    "dt_2 = accounts_data['nb_followers'].to_frame()\n",
    "#print(dt_2)\n",
    "#print(dt_2.values[0,0])\n",
    "\n",
    "with open('number_of_followers.csv', 'w', encoding='UTF-8', newline='') as f:\n",
    "    writer = csv.writer(f)\n",
    "    header = ['Number of Followers']\n",
    "\n",
    "    # write the header\n",
    "    writer.writerow(header)\n",
    "\n",
    "    ls =[]\n",
    "    for i in range(len(dt)):\n",
    "        ls.append([dt_2.values[i,0]])\n",
    "        # write the data\n",
    "\n",
    "        writer.writerow([dt_2.values[i,0]])\n",
    "\n",
    "# close the file\n",
    "f.close()\n",
    "\n",
    "\n",
    "accounts_data[\"nb_followers\"].hist()\n",
    "plt.show()\n",
    "accounts_data[\"nb_followers\"].describe()"
   ]
  },
  {
   "cell_type": "markdown",
   "metadata": {},
   "source": [
    "### Number of following!"
   ]
  },
  {
   "cell_type": "code",
   "execution_count": 8,
   "metadata": {},
   "outputs": [
    {
     "name": "stdout",
     "output_type": "stream",
     "text": [
      "      nb_following\n",
      "0              161\n",
      "1              150\n",
      "2              161\n",
      "3              164\n",
      "4              162\n",
      "...            ...\n",
      "3040           164\n",
      "3041           176\n",
      "3042           164\n",
      "3043           165\n",
      "3044           170\n",
      "\n",
      "[3045 rows x 1 columns]\n"
     ]
    },
    {
     "data": {
      "image/png": "[encoded data removed]",
      "text/plain": [
       "<Figure size 432x288 with 1 Axes>"
      ]
     },
     "metadata": {
      "needs_background": "light"
     },
     "output_type": "display_data"
    },
    {
     "data": {
      "text/plain": [
       "count    3045.000000\n",
       "mean      160.211166\n",
       "std        12.330283\n",
       "min       115.000000\n",
       "25%       152.000000\n",
       "50%       160.000000\n",
       "75%       169.000000\n",
       "max       199.000000\n",
       "Name: nb_following, dtype: float64"
      ]
     },
     "execution_count": 8,
     "metadata": {},
     "output_type": "execute_result"
    }
   ],
   "source": [
    "dt_3 = accounts_data['nb_following'].to_frame()\n",
    "print(dt_3)\n",
    "#print(dt_3.values[0,0])\n",
    "\n",
    "with open('number_of_following.csv', 'w', encoding='UTF-8', newline='') as f:\n",
    "    writer = csv.writer(f)\n",
    "    header = ['Number of Following']\n",
    "\n",
    "    # write the header\n",
    "    writer.writerow(header)\n",
    "\n",
    "    ls =[]\n",
    "    for i in range(len(dt_3)):\n",
    "        ls.append([dt_3.values[i,0]])\n",
    "        # write the data\n",
    "\n",
    "        writer.writerow([dt_3.values[i,0]])\n",
    "\n",
    "# close the file\n",
    "f.close()\n",
    "\n",
    "\n",
    "accounts_data[\"nb_following\"].hist()\n",
    "plt.show()\n",
    "accounts_data[\"nb_following\"].describe()"
   ]
  },
  {
   "cell_type": "markdown",
   "metadata": {},
   "source": [
    "### Number of Posts!"
   ]
  },
  {
   "cell_type": "code",
   "execution_count": 9,
   "metadata": {},
   "outputs": [
    {
     "data": {
      "image/png": "[encoded data removed]",
      "text/plain": [
       "<Figure size 432x288 with 1 Axes>"
      ]
     },
     "metadata": {
      "needs_background": "light"
     },
     "output_type": "display_data"
    },
    {
     "data": {
      "text/plain": [
       "count    3045.000000\n",
       "mean       76.764532\n",
       "std        56.230169\n",
       "min         1.000000\n",
       "25%        31.000000\n",
       "50%        65.000000\n",
       "75%       112.000000\n",
       "max       311.000000\n",
       "Name: nb_posts, dtype: float64"
      ]
     },
     "execution_count": 9,
     "metadata": {},
     "output_type": "execute_result"
    }
   ],
   "source": [
    "dt_4 = accounts_data['nb_posts'].to_frame()\n",
    "#print(dt_4)\n",
    "#print(dt_4.values[0,0])\n",
    "\n",
    "with open('numbera_of_posts.csv', 'w', encoding='UTF-8', newline='') as f:\n",
    "    writer = csv.writer(f)\n",
    "    header = ['Number of Posts']\n",
    "\n",
    "    # write the header\n",
    "    writer.writerow(header)\n",
    "\n",
    "    ls =[]\n",
    "    for i in range(len(dt)):\n",
    "        ls.append([dt_4.values[i,0]])\n",
    "        # write the data\n",
    "\n",
    "        writer.writerow([dt_4.values[i,0]])\n",
    "\n",
    "# close the file\n",
    "f.close()\n",
    "\n",
    "\n",
    "accounts_data[\"nb_posts\"].hist()\n",
    "plt.show()\n",
    "accounts_data[\"nb_posts\"].describe()"
   ]
  },
  {
   "cell_type": "markdown",
   "metadata": {},
   "source": [
    "### Age of the users!"
   ]
  },
  {
   "cell_type": "code",
   "execution_count": 10,
   "metadata": {},
   "outputs": [],
   "source": [
    "age = accounts_data[\"birth_date\"].to_frame()\n",
    "#print(age)\n",
    "n_age = age.values[27, 0]\n",
    "#print(int(n_age[-2:len(n_age)]))\n",
    "#print(type(n_age[-2:len(n_age)]))\n",
    "\n",
    "with open('age_of_users.csv', 'w', encoding='UTF-8', newline='') as f:\n",
    "    writer = csv.writer(f)\n",
    "    header = ['Age of users!']\n",
    "\n",
    "    # write the header\n",
    "    writer.writerow(header)\n",
    "\n",
    "    for i in range(len(dt)):\n",
    "        # write the data\n",
    "            if int(age.values[i,0][-2:len(n_age)]) > 22:\n",
    "                a = 100 - int(age.values[i,0][-2:len(n_age)]) + 22\n",
    "                writer.writerow([str(a)])\n",
    "            else:\n",
    "                a = -int(age.values[i,0][-2:len(n_age)]) + 22\n",
    "                writer.writerow([str(a)])\n",
    "\n",
    "# close the file\n",
    "f.close()"
   ]
  },
  {
   "cell_type": "markdown",
   "metadata": {},
   "source": [
    "### PC, Mobile phone, Tablet or bot?"
   ]
  },
  {
   "cell_type": "code",
   "execution_count": 11,
   "metadata": {},
   "outputs": [
    {
     "name": "stdout",
     "output_type": "stream",
     "text": [
      "Mobile: 732\n",
      "Tablet: 88\n",
      "PC: 1989\n",
      "Bot: 0\n"
     ]
    }
   ],
   "source": [
    "dt_6 = accounts_data['user_agent'].to_frame()\n",
    "# print(dt_6.values[100,0])\n",
    "\n",
    "mobile = 0\n",
    "tablet = 0\n",
    "pc = 0\n",
    "bot = 0\n",
    "\n",
    "ls_1 = []\n",
    "for i in range(len(dt_6)):\n",
    "    \n",
    "    # a = dt_6.values[i,0].split(';', 1)[0].split('(')\n",
    "    # ls_1.append(a[1])\n",
    "    ua_string = dt_6.values[i,0]\n",
    "    user_agent = parse(ua_string)\n",
    "    \n",
    "    if user_agent.is_mobile:\n",
    "        mobile += 1\n",
    "    elif user_agent.is_tablet:\n",
    "        tablet += 1\n",
    "    elif user_agent.is_pc:\n",
    "        pc += 1\n",
    "    elif user_agent.is_bot:\n",
    "        bot += 1\n",
    "\n",
    "print('Mobile: ' + str(mobile))\n",
    "print('Tablet: ' + str(tablet))\n",
    "print('PC: ' + str(pc))\n",
    "print('Bot: ' + str(bot))\n",
    "\n",
    "#print(user_agent.is_touch_capable) # returns False or True"
   ]
  },
  {
   "cell_type": "markdown",
   "metadata": {},
   "source": [
    "### Browsers!"
   ]
  },
  {
   "cell_type": "code",
   "execution_count": 12,
   "metadata": {},
   "outputs": [
    {
     "name": "stdout",
     "output_type": "stream",
     "text": [
      "Counter({'Opera': 595, 'IE': 591, 'Chrome': 504, 'Safari': 408, 'Firefox': 346, 'Mobile Safari': 209, 'Firefox Mobile': 136, 'Firefox iOS': 135, 'Chrome Mobile iOS': 121})\n"
     ]
    }
   ],
   "source": [
    "dt_7 = accounts_data['user_agent'].to_frame()\n",
    "\n",
    "ls_3 =[]\n",
    "for i in range(len(dt_7)):\n",
    "    \n",
    "    ua_string = dt_7.values[i,0]\n",
    "    user_agent = parse(ua_string)\n",
    "\n",
    "    ls_3.append(user_agent.browser.family)\n",
    "\n",
    "# print(ls_3)\n",
    "occurrences = Counter(ls_3) # <-- This will give us the number of users of the different browsers. \n",
    "print(occurrences) "
   ]
  },
  {
   "cell_type": "markdown",
   "metadata": {},
   "source": [
    "### Just Documentation and examples for user_agents and parse."
   ]
  },
  {
   "cell_type": "code",
   "execution_count": 13,
   "metadata": {},
   "outputs": [],
   "source": [
    "# (https://pythonrepo.com/repo/selwin-python-user-agents-python-text-processing#:~:text=user_agents%20is%20a%20Python%20library,%2FHTTP)%20user%20agent%20strings.)\n",
    "\n",
    "#from user_agents import parse\n",
    "\n",
    "# Let's start from an old, non touch Blackberry device\n",
    "#ua_string = 'BlackBerry9700/5.0.0.862 Profile/MIDP-2.1 Configuration/CLDC-1.1 VendorID/331 UNTRUSTED/1.0 3gpp-gba'\n",
    "#user_agent = parse(ua_string)\n",
    "#print(user_agent.is_mobile) # returns True\n",
    "#print(user_agent.is_tablet) # returns False\n",
    "#print(user_agent.is_touch_capable) # returns False\n",
    "#print(user_agent.is_pc) # returns False\n",
    "#print(user_agent.is_bot) # returns False\n",
    "#str(user_agent) # returns \"BlackBerry 9700 / BlackBerry OS 5 / BlackBerry 9700\"\n",
    "\n",
    "# Accessing user agent's browser attributes\n",
    "#user_agent.browser  # returns Browser(family=u'Mobile Safari', version=(5, 1), version_string='5.1')\n",
    "#user_agent.browser.family  # returns 'Mobile Safari'\n",
    "#user_agent.browser.version  # returns (5, 1)\n",
    "#user_agent.browser.version_string   # returns '5.1'"
   ]
  }
 ],
 "metadata": {
  "interpreter": {
   "hash": "97ae724bfa85b9b34df7982b8bb8c7216f435b92902d749e4263f71162bea840"
  },
  "kernelspec": {
   "display_name": "Python 3.8.3 64-bit ('base': conda)",
   "language": "python",
   "name": "python3"
  },
  "language_info": {
   "codemirror_mode": {
    "name": "ipython",
    "version": 3
   },
   "file_extension": ".py",
   "mimetype": "text/x-python",
   "name": "python",
   "nbconvert_exporter": "python",
   "pygments_lexer": "ipython3",
   "version": "3.8.3"
  },
  "orig_nbformat": 4
 },
 "nbformat": 4,
 "nbformat_minor": 2
}
