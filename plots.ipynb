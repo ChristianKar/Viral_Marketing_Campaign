{
 "cells": [
  {
   "cell_type": "code",
   "execution_count": 148,
   "metadata": {},
   "outputs": [],
   "source": [
    "import pandas as pd\n",
    "import numpy as np\n",
    "from os import getcwd\n",
    "import matplotlib.pyplot as plt\n",
    "import plotly.graph_objects as go\n",
    "from ast import literal_eval"
   ]
  },
  {
   "cell_type": "code",
   "execution_count": 149,
   "metadata": {},
   "outputs": [],
   "source": [
    "CURR_PATH = getcwd()\n",
    "# The above command will give us the current working directory.\n",
    "PATH_DATA = CURR_PATH + \"/data/\"\n",
    "\n",
    "accounts_data = pd.read_csv(PATH_DATA + \"instagram_accounts.csv\",converters={'id_followers': literal_eval, 'department': literal_eval})\n",
    "posts_data = pd.read_csv(PATH_DATA + \"instagram_posts.csv\")"
   ]
  },
  {
   "cell_type": "code",
   "execution_count": 150,
   "metadata": {},
   "outputs": [
    {
     "name": "stdout",
     "output_type": "stream",
     "text": [
      "   Unnamed: 0  id_user  nb_followers  nb_following  nb_posts     sex  \\\n",
      "0           0   288877           167            58        48  female   \n",
      "1           1   140311            67            72         8  female   \n",
      "2           2   182096           142            95        14  female   \n",
      "3           3   208875           249            99       150    male   \n",
      "4           4   960092            96           114        19  female   \n",
      "\n",
      "                                        id_followers  \\\n",
      "0  [738818, 134147, 314454, 977416, 926730, 82740...   \n",
      "1  [380289, 341188, 775558, 998151, 246792, 17869...   \n",
      "2  [524806, 968200, 241324, 233490, 188948, 15054...   \n",
      "3  [776192, 164353, 989698, 134147, 305670, 65792...   \n",
      "4  [858624, 896013, 138779, 817185, 854563, 88580...   \n",
      "\n",
      "                   department                   email  \\\n",
      "0  (64, Pyrénées-Atlantiques)  zacharieweber@live.com   \n",
      "1                (03, Allier)   hugues65@fontaine.com   \n",
      "2                  (27, Eure)       gilles11@live.com   \n",
      "3         (22, Côtes-d'Armor)    manoncolin@gmail.com   \n",
      "4          (74, Haute-Savoie)  valerie79@guichard.com   \n",
      "\n",
      "                                          user_agent birth_date  \n",
      "0  Mozilla/5.0 (Macintosh; U; PPC Mac OS X 10_10_...   06/22/82  \n",
      "1  Opera/9.55.(X11; Linux i686; wo-SN) Presto/2.9...   01/06/96  \n",
      "2  Mozilla/5.0 (Windows; U; Windows NT 4.0) Apple...   07/22/61  \n",
      "3  Mozilla/5.0 (Windows NT 4.0; nds-NL; rv:1.9.1....   03/14/75  \n",
      "4  Mozilla/5.0 (Android 3.2.1; Mobile; rv:12.0) G...   07/26/67  \n"
     ]
    }
   ],
   "source": [
    "print(accounts_data.head())"
   ]
  },
  {
   "cell_type": "code",
   "execution_count": 151,
   "metadata": {},
   "outputs": [
    {
     "data": {
      "text/plain": [
       "female    1551\n",
       "male      1496\n",
       "Name: sex, dtype: int64"
      ]
     },
     "execution_count": 151,
     "metadata": {},
     "output_type": "execute_result"
    }
   ],
   "source": [
    "# Sex Data\n",
    "accounts_data['sex'].value_counts()"
   ]
  },
  {
   "cell_type": "code",
   "execution_count": 152,
   "metadata": {},
   "outputs": [
    {
     "name": "stdout",
     "output_type": "stream",
     "text": [
      "                        department  count\n",
      "0                      (55, Meuse)     44\n",
      "1                (972, Martinique)     42\n",
      "2                     (85, Vendée)     40\n",
      "3                       (27, Eure)     39\n",
      "4              (31, Haute-Garonne)     39\n",
      "..                             ...    ...\n",
      "96                      (39, Jura)     21\n",
      "97              (2A, Corse-du-Sud)     21\n",
      "98                     (36, Indre)     20\n",
      "99                     (02, Aisne)     19\n",
      "100  (04, Alpes-de-Haute-Provence)     18\n",
      "\n",
      "[101 rows x 2 columns]\n",
      "55\n"
     ]
    }
   ],
   "source": [
    "dt = accounts_data['department'].value_counts().sort_values(ascending=False).to_frame()\n",
    "dt.reset_index(level=0, inplace=True)\n",
    "dt.rename({'department':'count', 'index':'department'}, axis='columns', inplace=True)\n",
    "\n"
   ]
  },
  {
   "cell_type": "code",
   "execution_count": 153,
   "metadata": {},
   "outputs": [
    {
     "data": {
      "text/plain": [
       "13     36\n",
       "5      36\n",
       "26     35\n",
       "9      34\n",
       "30     31\n",
       "       ..\n",
       "295     1\n",
       "196     1\n",
       "182     1\n",
       "311     1\n",
       "300     1\n",
       "Name: nb_posts, Length: 248, dtype: int64"
      ]
     },
     "execution_count": 153,
     "metadata": {},
     "output_type": "execute_result"
    }
   ],
   "source": [
    "accounts_data['nb_posts'].value_counts().sort_values(ascending=False)"
   ]
  }
 ],
 "metadata": {
  "interpreter": {
   "hash": "97ae724bfa85b9b34df7982b8bb8c7216f435b92902d749e4263f71162bea840"
  },
  "kernelspec": {
   "display_name": "Python 3.8.3 64-bit ('base': conda)",
   "language": "python",
   "name": "python3"
  },
  "language_info": {
   "codemirror_mode": {
    "name": "ipython",
    "version": 3
   },
   "file_extension": ".py",
   "mimetype": "text/x-python",
   "name": "python",
   "nbconvert_exporter": "python",
   "pygments_lexer": "ipython3",
   "version": "3.9.7"
  },
  "orig_nbformat": 4
 },
 "nbformat": 4,
 "nbformat_minor": 2
}
