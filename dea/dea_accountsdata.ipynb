{
 "cells": [
  {
   "cell_type": "markdown",
   "metadata": {},
   "source": [
    "# Importing Data and Modules"
   ]
  },
  {
   "cell_type": "code",
   "execution_count": 4,
   "metadata": {},
   "outputs": [],
   "source": [
    "import pandas as pd\n",
    "import numpy as np\n",
    "from ast import literal_eval\n",
    "import matplotlib.pyplot as plt"
   ]
  },
  {
   "cell_type": "code",
   "execution_count": 5,
   "metadata": {},
   "outputs": [],
   "source": [
    "PATH_DATA = \"../data/\"\n",
    "\n",
    "accounts_data = pd.read_csv(PATH_DATA + \"instagram_accounts.csv\", converters={'id_followers': literal_eval})\n"
   ]
  },
  {
   "cell_type": "code",
   "execution_count": 6,
   "metadata": {},
   "outputs": [],
   "source": [
    "# dict_following = {key: 0 for key in accounts_data[\"id_user\"]}\n",
    "# for idx in range(len(accounts_data)):\n",
    "#     lst = accounts_data.at[idx, \"id_followers\"]\n",
    "#     for ele in lst:\n",
    "#        dict_following[ele] += 1\n",
    "\n"
   ]
  },
  {
   "cell_type": "markdown",
   "metadata": {},
   "source": [
    "# Cleaning up Accounts Data: \n",
    "\n",
    "We need to remove users with duplicate IDs. This entails removing them from the followers lists, and recalculating the number of followers for each."
   ]
  },
  {
   "cell_type": "code",
   "execution_count": 7,
   "metadata": {},
   "outputs": [
    {
     "name": "stdout",
     "output_type": "stream",
     "text": [
      "(3047, 11)\n",
      "[603282]\n",
      "   id_user  nb_followers  nb_following  nb_posts     sex  \\\n",
      "0   288877           167            58        48  female   \n",
      "1   140311            67            72         8  female   \n",
      "2   182096           142            95        14  female   \n",
      "3   208875           249            99       150    male   \n",
      "4   960092            96           114        19  female   \n",
      "\n",
      "                                        id_followers  \\\n",
      "0  [738818, 134147, 314454, 977416, 926730, 82740...   \n",
      "1  [380289, 341188, 775558, 998151, 246792, 17869...   \n",
      "2  [524806, 968200, 241324, 233490, 188948, 15054...   \n",
      "3  [776192, 164353, 989698, 134147, 305670, 65792...   \n",
      "4  [858624, 896013, 138779, 817185, 854563, 88580...   \n",
      "\n",
      "                       department                   email  \\\n",
      "0  ('64', 'Pyrénées-Atlantiques')  zacharieweber@live.com   \n",
      "1                ('03', 'Allier')   hugues65@fontaine.com   \n",
      "2                  ('27', 'Eure')       gilles11@live.com   \n",
      "3         ('22', \"Côtes-d'Armor\")    manoncolin@gmail.com   \n",
      "4          ('74', 'Haute-Savoie')  valerie79@guichard.com   \n",
      "\n",
      "                                          user_agent birth_date  \n",
      "0  Mozilla/5.0 (Macintosh; U; PPC Mac OS X 10_10_...   06/22/82  \n",
      "1  Opera/9.55.(X11; Linux i686; wo-SN) Presto/2.9...   01/06/96  \n",
      "2  Mozilla/5.0 (Windows; U; Windows NT 4.0) Apple...   07/22/61  \n",
      "3  Mozilla/5.0 (Windows NT 4.0; nds-NL; rv:1.9.1....   03/14/75  \n",
      "4  Mozilla/5.0 (Android 3.2.1; Mobile; rv:12.0) G...   07/26/67  \n"
     ]
    }
   ],
   "source": [
    "# Checking for duplicates - and we found one!\n",
    "print(accounts_data.shape)\n",
    "duplicated_user_id = accounts_data[ accounts_data['id_user'].duplicated() == True ][\"id_user\"].values\n",
    "print(duplicated_user_id)\n",
    "accounts_data.drop_duplicates(subset=['id_user'], inplace=True, keep=False)\n",
    "accounts_data.reset_index(drop=True, inplace=True)\n",
    "accounts_data.drop(columns=[\"Unnamed: 0\"], inplace=True)\n",
    "print(accounts_data.head())\n",
    "\n",
    "for idx in range(len(accounts_data)):\n",
    "    lst = accounts_data.at[idx, \"id_followers\"]\n",
    "    for ele in duplicated_user_id:\n",
    "        if ele in lst:\n",
    "            lst.remove(ele)\n",
    "    accounts_data.at[idx, \"id_followers\"] = lst\n",
    "\n",
    "accounts_data[\"nb_followers\"] = accounts_data[\"id_followers\"].apply(len)\n"
   ]
  },
  {
   "cell_type": "code",
   "execution_count": 8,
   "metadata": {},
   "outputs": [
    {
     "name": "stdout",
     "output_type": "stream",
     "text": [
      "   id_user  nb_followers  nb_following  nb_posts     sex  \\\n",
      "0   288877           167            58        48  female   \n",
      "1   140311            67            72         8  female   \n",
      "2   182096           142            95        14  female   \n",
      "3   208875           249            99       150    male   \n",
      "4   960092            95           114        19  female   \n",
      "\n",
      "                                        id_followers  \\\n",
      "0  [738818, 134147, 314454, 977416, 926730, 82740...   \n",
      "1  [380289, 341188, 775558, 998151, 246792, 17869...   \n",
      "2  [524806, 968200, 241324, 233490, 188948, 15054...   \n",
      "3  [776192, 164353, 989698, 134147, 305670, 65792...   \n",
      "4  [858624, 896013, 138779, 817185, 854563, 88580...   \n",
      "\n",
      "                       department                   email  \\\n",
      "0  ('64', 'Pyrénées-Atlantiques')  zacharieweber@live.com   \n",
      "1                ('03', 'Allier')   hugues65@fontaine.com   \n",
      "2                  ('27', 'Eure')       gilles11@live.com   \n",
      "3         ('22', \"Côtes-d'Armor\")    manoncolin@gmail.com   \n",
      "4          ('74', 'Haute-Savoie')  valerie79@guichard.com   \n",
      "\n",
      "                                          user_agent birth_date  \n",
      "0  Mozilla/5.0 (Macintosh; U; PPC Mac OS X 10_10_...   06/22/82  \n",
      "1  Opera/9.55.(X11; Linux i686; wo-SN) Presto/2.9...   01/06/96  \n",
      "2  Mozilla/5.0 (Windows; U; Windows NT 4.0) Apple...   07/22/61  \n",
      "3  Mozilla/5.0 (Windows NT 4.0; nds-NL; rv:1.9.1....   03/14/75  \n",
      "4  Mozilla/5.0 (Android 3.2.1; Mobile; rv:12.0) G...   07/26/67  \n",
      "<class 'pandas.core.frame.DataFrame'>\n",
      "RangeIndex: 3045 entries, 0 to 3044\n",
      "Data columns (total 10 columns):\n",
      " #   Column        Non-Null Count  Dtype \n",
      "---  ------        --------------  ----- \n",
      " 0   id_user       3045 non-null   int64 \n",
      " 1   nb_followers  3045 non-null   int64 \n",
      " 2   nb_following  3045 non-null   int64 \n",
      " 3   nb_posts      3045 non-null   int64 \n",
      " 4   sex           3045 non-null   object\n",
      " 5   id_followers  3045 non-null   object\n",
      " 6   department    3045 non-null   object\n",
      " 7   email         3045 non-null   object\n",
      " 8   user_agent    3045 non-null   object\n",
      " 9   birth_date    3045 non-null   object\n",
      "dtypes: int64(4), object(6)\n",
      "memory usage: 238.0+ KB\n",
      "None\n"
     ]
    }
   ],
   "source": [
    "print(accounts_data.head())\n",
    "print(accounts_data.info())\n",
    "# print(posts_data.head())\n",
    "# print(posts_data.info())"
   ]
  },
  {
   "cell_type": "markdown",
   "metadata": {},
   "source": [
    "# Data Analysis\n",
    "Here, we look at characteristics of our data to understand the composition of our users."
   ]
  },
  {
   "cell_type": "code",
   "execution_count": 9,
   "metadata": {},
   "outputs": [
    {
     "data": {
      "text/plain": [
       "female    1550\n",
       "male      1495\n",
       "Name: sex, dtype: int64"
      ]
     },
     "execution_count": 9,
     "metadata": {},
     "output_type": "execute_result"
    }
   ],
   "source": [
    "## Sex Data\n",
    "accounts_data['sex'].value_counts()"
   ]
  },
  {
   "cell_type": "code",
   "execution_count": 10,
   "metadata": {},
   "outputs": [
    {
     "data": {
      "text/plain": [
       "('55', 'Meuse')                      44\n",
       "('972', 'Martinique')                42\n",
       "('85', 'Vendée')                     40\n",
       "('31', 'Haute-Garonne')              39\n",
       "('27', 'Eure')                       39\n",
       "                                     ..\n",
       "('52', 'Haute-Marne')                21\n",
       "('2A', 'Corse-du-Sud')               20\n",
       "('36', 'Indre')                      20\n",
       "('02', 'Aisne')                      19\n",
       "('04', 'Alpes-de-Haute-Provence')    18\n",
       "Name: department, Length: 101, dtype: int64"
      ]
     },
     "execution_count": 10,
     "metadata": {},
     "output_type": "execute_result"
    }
   ],
   "source": [
    "accounts_data['department'].value_counts().sort_values(ascending=False)"
   ]
  },
  {
   "cell_type": "code",
   "execution_count": 11,
   "metadata": {},
   "outputs": [
    {
     "data": {
      "image/png": "[encoded data removed]",
      "text/plain": [
       "<Figure size 432x288 with 1 Axes>"
      ]
     },
     "metadata": {
      "needs_background": "light"
     },
     "output_type": "display_data"
    },
    {
     "data": {
      "text/plain": [
       "count    3045.000000\n",
       "mean      160.211166\n",
       "std        51.991272\n",
       "min        60.000000\n",
       "25%       115.000000\n",
       "50%       159.000000\n",
       "75%       205.000000\n",
       "max       255.000000\n",
       "Name: nb_followers, dtype: float64"
      ]
     },
     "execution_count": 11,
     "metadata": {},
     "output_type": "execute_result"
    }
   ],
   "source": [
    "accounts_data[\"nb_followers\"].hist()\n",
    "plt.show()\n",
    "accounts_data[\"nb_followers\"].describe()"
   ]
  },
  {
   "cell_type": "code",
   "execution_count": 12,
   "metadata": {},
   "outputs": [
    {
     "data": {
      "image/png": "[encoded data removed]",
      "text/plain": [
       "<Figure size 432x288 with 1 Axes>"
      ]
     },
     "metadata": {
      "needs_background": "light"
     },
     "output_type": "display_data"
    },
    {
     "data": {
      "text/plain": [
       "count    3045.000000\n",
       "mean      142.526437\n",
       "std        86.629566\n",
       "min        29.000000\n",
       "25%        75.000000\n",
       "50%       125.000000\n",
       "75%       192.000000\n",
       "max       553.000000\n",
       "Name: nb_following, dtype: float64"
      ]
     },
     "execution_count": 12,
     "metadata": {},
     "output_type": "execute_result"
    }
   ],
   "source": [
    "accounts_data[\"nb_following\"].hist()\n",
    "plt.show()\n",
    "accounts_data[\"nb_following\"].describe()"
   ]
  },
  {
   "cell_type": "code",
   "execution_count": 13,
   "metadata": {},
   "outputs": [
    {
     "name": "stdout",
     "output_type": "stream",
     "text": [
      "count    3045.000000\n",
      "mean       38.923810\n",
      "std        12.513965\n",
      "min        18.000000\n",
      "25%        28.000000\n",
      "50%        39.000000\n",
      "75%        50.000000\n",
      "max        60.000000\n",
      "Name: age, dtype: float64\n"
     ]
    },
    {
     "data": {
      "image/png": "[encoded data removed]",
      "text/plain": [
       "<Figure size 432x288 with 1 Axes>"
      ]
     },
     "metadata": {
      "needs_background": "light"
     },
     "output_type": "display_data"
    }
   ],
   "source": [
    "age = pd.to_datetime(accounts_data[\"birth_date\"])\n",
    "age = (pd.to_datetime(\"today\") - age) / np.timedelta64(1, \"Y\")\n",
    "age[age < 0] += 100\n",
    "\n",
    "accounts_data[\"age\"] = age.astype('int32')\n",
    "print(accounts_data[\"age\"].describe())\n",
    "\n",
    "accounts_data[\"age\"].hist(histtype=\"bar\", ec=\"black\")\n",
    "plt.title(\"Ages of our users\")\n",
    "plt.ylabel(\"# of users\")\n",
    "plt.xlabel(\"Binned ages\")\n",
    "plt.show()"
   ]
  },
  {
   "cell_type": "code",
   "execution_count": 14,
   "metadata": {},
   "outputs": [
    {
     "data": {
      "text/plain": [
       "False"
      ]
     },
     "execution_count": 14,
     "metadata": {},
     "output_type": "execute_result"
    }
   ],
   "source": [
    "# Checking for empty cells across the data \n",
    "accounts_data.isnull().values.any()\n"
   ]
  }
 ],
 "metadata": {
  "interpreter": {
   "hash": "89b846c87fa7ba0c29f1d88897b6c0f4257bb8e3750e20f38344bf74a1a6ad88"
  },
  "kernelspec": {
   "display_name": "Python 3.9.7 64-bit ('base': conda)",
   "language": "python",
   "name": "python3"
  },
  "language_info": {
   "codemirror_mode": {
    "name": "ipython",
    "version": 3
   },
   "file_extension": ".py",
   "mimetype": "text/x-python",
   "name": "python",
   "nbconvert_exporter": "python",
   "pygments_lexer": "ipython3",
   "version": "3.9.7"
  },
  "orig_nbformat": 4
 },
 "nbformat": 4,
 "nbformat_minor": 2
}
