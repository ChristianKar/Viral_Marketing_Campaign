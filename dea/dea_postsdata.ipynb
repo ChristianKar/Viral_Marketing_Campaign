{
 "cells": [
  {
   "cell_type": "markdown",
   "metadata": {},
   "source": [
    "# Importing Data and Modules"
   ]
  },
  {
   "cell_type": "code",
   "execution_count": 13,
   "metadata": {},
   "outputs": [],
   "source": [
    "import pandas as pd\n",
    "import numpy as np\n",
    "import matplotlib.pyplot as plt"
   ]
  },
  {
   "cell_type": "code",
   "execution_count": 14,
   "metadata": {},
   "outputs": [],
   "source": [
    "PATH_DATA = \"../data/\"\n",
    "\n",
    "accounts_data = pd.read_csv(PATH_DATA + \"instagram_accounts.csv\")\n",
    "posts_data = pd.read_csv(PATH_DATA + \"instagram_posts.csv\")"
   ]
  },
  {
   "cell_type": "code",
   "execution_count": 15,
   "metadata": {},
   "outputs": [
    {
     "name": "stdout",
     "output_type": "stream",
     "text": [
      "   Unnamed: 0  id_user    id_post        date   time half_day  views  reposts  \\\n",
      "0           0   672702  638779430  09/11/2017  07:53       am      2       18   \n",
      "1           1   474227  953043456  09/11/2017  02:03       am     36       11   \n",
      "2           2   587566  650889385  09/11/2017  02:57       am     59       11   \n",
      "3           3   483543  144265898  09/11/2017  11:43       am     21       14   \n",
      "4           4   394103  955542283  09/11/2017  04:53       pm     16        3   \n",
      "\n",
      "   likes  comments  id_post_origin  link_clicks  donation_tag  donation_val  \\\n",
      "0      0         0               0         True         False             0   \n",
      "1     16         1               0         True         False             0   \n",
      "2      8         1               0         True         False             0   \n",
      "3      9         2               0         True         False             0   \n",
      "4      2         0       638779430        False         False             0   \n",
      "\n",
      "   house_buy  \n",
      "0      False  \n",
      "1      False  \n",
      "2      False  \n",
      "3      False  \n",
      "4      False  \n",
      "<class 'pandas.core.frame.DataFrame'>\n",
      "RangeIndex: 1194 entries, 0 to 1193\n",
      "Data columns (total 15 columns):\n",
      " #   Column          Non-Null Count  Dtype \n",
      "---  ------          --------------  ----- \n",
      " 0   Unnamed: 0      1194 non-null   int64 \n",
      " 1   id_user         1194 non-null   int64 \n",
      " 2   id_post         1194 non-null   int64 \n",
      " 3   date            1194 non-null   object\n",
      " 4   time            1194 non-null   object\n",
      " 5   half_day        1194 non-null   object\n",
      " 6   views           1194 non-null   int64 \n",
      " 7   reposts         1194 non-null   int64 \n",
      " 8   likes           1194 non-null   int64 \n",
      " 9   comments        1194 non-null   int64 \n",
      " 10  id_post_origin  1194 non-null   int64 \n",
      " 11  link_clicks     1194 non-null   bool  \n",
      " 12  donation_tag    1194 non-null   bool  \n",
      " 13  donation_val    1194 non-null   int64 \n",
      " 14  house_buy       1194 non-null   bool  \n",
      "dtypes: bool(3), int64(9), object(3)\n",
      "memory usage: 115.6+ KB\n",
      "None\n"
     ]
    }
   ],
   "source": [
    "# print(accounts_data.head())\n",
    "# print(accounts_data.info())\n",
    "print(posts_data.head())\n",
    "print(posts_data.info())"
   ]
  },
  {
   "cell_type": "markdown",
   "metadata": {},
   "source": [
    "# Data Analysis\n",
    "\n",
    "We can look at interesting features of our data here."
   ]
  },
  {
   "cell_type": "code",
   "execution_count": 16,
   "metadata": {},
   "outputs": [
    {
     "data": {
      "text/plain": [
       "False    1194\n",
       "Name: house_buy, dtype: int64"
      ]
     },
     "execution_count": 16,
     "metadata": {},
     "output_type": "execute_result"
    }
   ],
   "source": [
    "## House_Buy Data\n",
    "posts_data['house_buy'].value_counts()"
   ]
  },
  {
   "cell_type": "code",
   "execution_count": 17,
   "metadata": {},
   "outputs": [
    {
     "data": {
      "text/plain": [
       "count    1194.000000\n",
       "mean       82.602178\n",
       "std        62.045721\n",
       "min         0.000000\n",
       "25%        33.000000\n",
       "50%        70.500000\n",
       "75%       120.750000\n",
       "max       387.000000\n",
       "Name: views, dtype: float64"
      ]
     },
     "execution_count": 17,
     "metadata": {},
     "output_type": "execute_result"
    },
    {
     "data": {
      "image/png": "[encoded data removed]",
      "text/plain": [
       "<Figure size 432x288 with 1 Axes>"
      ]
     },
     "metadata": {
      "needs_background": "light"
     },
     "output_type": "display_data"
    }
   ],
   "source": [
    "posts_data[\"views\"].hist()\n",
    "posts_data[\"views\"].describe()"
   ]
  },
  {
   "cell_type": "code",
   "execution_count": 18,
   "metadata": {},
   "outputs": [
    {
     "data": {
      "text/plain": [
       "False    1077\n",
       "True      117\n",
       "Name: link_clicks, dtype: int64"
      ]
     },
     "execution_count": 18,
     "metadata": {},
     "output_type": "execute_result"
    }
   ],
   "source": [
    "\n",
    "posts_data['link_clicks'].value_counts()"
   ]
  },
  {
   "cell_type": "code",
   "execution_count": 19,
   "metadata": {},
   "outputs": [
    {
     "data": {
      "text/plain": [
       "638779430    16\n",
       "760062606    14\n",
       "144265898    13\n",
       "953043456    11\n",
       "650889385    10\n",
       "             ..\n",
       "673179308     1\n",
       "741621458     1\n",
       "922389702     1\n",
       "255210644     1\n",
       "810913610     1\n",
       "Name: id_post_origin, Length: 458, dtype: int64"
      ]
     },
     "execution_count": 19,
     "metadata": {},
     "output_type": "execute_result"
    }
   ],
   "source": [
    "posts_data[\"id_post_origin\"].value_counts(sort=True, ascending=False)"
   ]
  },
  {
   "cell_type": "code",
   "execution_count": 20,
   "metadata": {},
   "outputs": [
    {
     "data": {
      "text/html": [
       "<div>\n",
       "<style scoped>\n",
       "    .dataframe tbody tr th:only-of-type {\n",
       "        vertical-align: middle;\n",
       "    }\n",
       "\n",
       "    .dataframe tbody tr th {\n",
       "        vertical-align: top;\n",
       "    }\n",
       "\n",
       "    .dataframe thead th {\n",
       "        text-align: right;\n",
       "    }\n",
       "</style>\n",
       "<table border=\"1\" class=\"dataframe\">\n",
       "  <thead>\n",
       "    <tr style=\"text-align: right;\">\n",
       "      <th></th>\n",
       "      <th>id_post</th>\n",
       "      <th>reposts</th>\n",
       "    </tr>\n",
       "  </thead>\n",
       "  <tbody>\n",
       "    <tr>\n",
       "      <th>0</th>\n",
       "      <td>638779430</td>\n",
       "      <td>18</td>\n",
       "    </tr>\n",
       "    <tr>\n",
       "      <th>3</th>\n",
       "      <td>144265898</td>\n",
       "      <td>14</td>\n",
       "    </tr>\n",
       "    <tr>\n",
       "      <th>23</th>\n",
       "      <td>760062606</td>\n",
       "      <td>14</td>\n",
       "    </tr>\n",
       "    <tr>\n",
       "      <th>20</th>\n",
       "      <td>844989061</td>\n",
       "      <td>12</td>\n",
       "    </tr>\n",
       "    <tr>\n",
       "      <th>15</th>\n",
       "      <td>972167608</td>\n",
       "      <td>11</td>\n",
       "    </tr>\n",
       "    <tr>\n",
       "      <th>...</th>\n",
       "      <td>...</td>\n",
       "      <td>...</td>\n",
       "    </tr>\n",
       "    <tr>\n",
       "      <th>927</th>\n",
       "      <td>474005636</td>\n",
       "      <td>0</td>\n",
       "    </tr>\n",
       "    <tr>\n",
       "      <th>614</th>\n",
       "      <td>433897630</td>\n",
       "      <td>0</td>\n",
       "    </tr>\n",
       "    <tr>\n",
       "      <th>924</th>\n",
       "      <td>669220907</td>\n",
       "      <td>0</td>\n",
       "    </tr>\n",
       "    <tr>\n",
       "      <th>617</th>\n",
       "      <td>411768294</td>\n",
       "      <td>0</td>\n",
       "    </tr>\n",
       "    <tr>\n",
       "      <th>597</th>\n",
       "      <td>794214156</td>\n",
       "      <td>0</td>\n",
       "    </tr>\n",
       "  </tbody>\n",
       "</table>\n",
       "<p>1194 rows × 2 columns</p>\n",
       "</div>"
      ],
      "text/plain": [
       "       id_post  reposts\n",
       "0    638779430       18\n",
       "3    144265898       14\n",
       "23   760062606       14\n",
       "20   844989061       12\n",
       "15   972167608       11\n",
       "..         ...      ...\n",
       "927  474005636        0\n",
       "614  433897630        0\n",
       "924  669220907        0\n",
       "617  411768294        0\n",
       "597  794214156        0\n",
       "\n",
       "[1194 rows x 2 columns]"
      ]
     },
     "execution_count": 20,
     "metadata": {},
     "output_type": "execute_result"
    }
   ],
   "source": [
    "posts_data[[\"id_post\",\"reposts\"]].sort_values(by=\"reposts\", ascending=False)"
   ]
  },
  {
   "cell_type": "code",
   "execution_count": 21,
   "metadata": {},
   "outputs": [
    {
     "data": {
      "text/html": [
       "<div>\n",
       "<style scoped>\n",
       "    .dataframe tbody tr th:only-of-type {\n",
       "        vertical-align: middle;\n",
       "    }\n",
       "\n",
       "    .dataframe tbody tr th {\n",
       "        vertical-align: top;\n",
       "    }\n",
       "\n",
       "    .dataframe thead th {\n",
       "        text-align: right;\n",
       "    }\n",
       "</style>\n",
       "<table border=\"1\" class=\"dataframe\">\n",
       "  <thead>\n",
       "    <tr style=\"text-align: right;\">\n",
       "      <th></th>\n",
       "      <th>Unnamed: 0</th>\n",
       "      <th>id_user</th>\n",
       "      <th>id_post</th>\n",
       "      <th>date</th>\n",
       "      <th>time</th>\n",
       "      <th>half_day</th>\n",
       "      <th>views</th>\n",
       "      <th>reposts</th>\n",
       "      <th>likes</th>\n",
       "      <th>comments</th>\n",
       "      <th>id_post_origin</th>\n",
       "      <th>link_clicks</th>\n",
       "      <th>donation_tag</th>\n",
       "      <th>donation_val</th>\n",
       "      <th>house_buy</th>\n",
       "    </tr>\n",
       "  </thead>\n",
       "  <tbody>\n",
       "  </tbody>\n",
       "</table>\n",
       "</div>"
      ],
      "text/plain": [
       "Empty DataFrame\n",
       "Columns: [Unnamed: 0, id_user, id_post, date, time, half_day, views, reposts, likes, comments, id_post_origin, link_clicks, donation_tag, donation_val, house_buy]\n",
       "Index: []"
      ]
     },
     "execution_count": 21,
     "metadata": {},
     "output_type": "execute_result"
    }
   ],
   "source": [
    "posts_data[ posts_data['id_user'].duplicated() == True ]"
   ]
  },
  {
   "cell_type": "code",
   "execution_count": 22,
   "metadata": {},
   "outputs": [
    {
     "data": {
      "text/html": [
       "<div>\n",
       "<style scoped>\n",
       "    .dataframe tbody tr th:only-of-type {\n",
       "        vertical-align: middle;\n",
       "    }\n",
       "\n",
       "    .dataframe tbody tr th {\n",
       "        vertical-align: top;\n",
       "    }\n",
       "\n",
       "    .dataframe thead th {\n",
       "        text-align: right;\n",
       "    }\n",
       "</style>\n",
       "<table border=\"1\" class=\"dataframe\">\n",
       "  <thead>\n",
       "    <tr style=\"text-align: right;\">\n",
       "      <th></th>\n",
       "      <th>Unnamed: 0</th>\n",
       "      <th>id_user</th>\n",
       "      <th>id_post</th>\n",
       "      <th>date</th>\n",
       "      <th>time</th>\n",
       "      <th>half_day</th>\n",
       "      <th>views</th>\n",
       "      <th>reposts</th>\n",
       "      <th>likes</th>\n",
       "      <th>comments</th>\n",
       "      <th>id_post_origin</th>\n",
       "      <th>link_clicks</th>\n",
       "      <th>donation_tag</th>\n",
       "      <th>donation_val</th>\n",
       "      <th>house_buy</th>\n",
       "    </tr>\n",
       "  </thead>\n",
       "  <tbody>\n",
       "    <tr>\n",
       "      <th>1129</th>\n",
       "      <td>1129</td>\n",
       "      <td>603282</td>\n",
       "      <td>408653209</td>\n",
       "      <td>11/11/2017</td>\n",
       "      <td>12:02</td>\n",
       "      <td>pm</td>\n",
       "      <td>55</td>\n",
       "      <td>0</td>\n",
       "      <td>24</td>\n",
       "      <td>1</td>\n",
       "      <td>572056570</td>\n",
       "      <td>True</td>\n",
       "      <td>False</td>\n",
       "      <td>0</td>\n",
       "      <td>False</td>\n",
       "    </tr>\n",
       "  </tbody>\n",
       "</table>\n",
       "</div>"
      ],
      "text/plain": [
       "      Unnamed: 0  id_user    id_post        date   time half_day  views  \\\n",
       "1129        1129   603282  408653209  11/11/2017  12:02       pm     55   \n",
       "\n",
       "      reposts  likes  comments  id_post_origin  link_clicks  donation_tag  \\\n",
       "1129        0     24         1       572056570         True         False   \n",
       "\n",
       "      donation_val  house_buy  \n",
       "1129             0      False  "
      ]
     },
     "execution_count": 22,
     "metadata": {},
     "output_type": "execute_result"
    }
   ],
   "source": [
    "posts_data[posts_data[\"id_user\"] == 603282]"
   ]
  },
  {
   "cell_type": "code",
   "execution_count": 23,
   "metadata": {},
   "outputs": [
    {
     "name": "stdout",
     "output_type": "stream",
     "text": [
      "<class 'pandas.core.frame.DataFrame'>\n",
      "RangeIndex: 1194 entries, 0 to 1193\n",
      "Data columns (total 15 columns):\n",
      " #   Column          Non-Null Count  Dtype \n",
      "---  ------          --------------  ----- \n",
      " 0   Unnamed: 0      1194 non-null   int64 \n",
      " 1   id_user         1194 non-null   int64 \n",
      " 2   id_post         1194 non-null   int64 \n",
      " 3   date            1194 non-null   object\n",
      " 4   time            1194 non-null   object\n",
      " 5   half_day        1194 non-null   object\n",
      " 6   views           1194 non-null   int64 \n",
      " 7   reposts         1194 non-null   int64 \n",
      " 8   likes           1194 non-null   int64 \n",
      " 9   comments        1194 non-null   int64 \n",
      " 10  id_post_origin  1194 non-null   int64 \n",
      " 11  link_clicks     1194 non-null   bool  \n",
      " 12  donation_tag    1194 non-null   bool  \n",
      " 13  donation_val    1194 non-null   int64 \n",
      " 14  house_buy       1194 non-null   bool  \n",
      "dtypes: bool(3), int64(9), object(3)\n",
      "memory usage: 115.6+ KB\n"
     ]
    }
   ],
   "source": [
    "# posts_data.loc[:, \"id_post\"==572056570 |\"id_post_origin\" ==572056570]\n",
    "\n",
    "posts_data.info()"
   ]
  },
  {
   "cell_type": "code",
   "execution_count": 26,
   "metadata": {},
   "outputs": [
    {
     "name": "stdout",
     "output_type": "stream",
     "text": [
      "0      2022-01-26 07:53:00\n",
      "1      2022-01-26 02:03:00\n",
      "2      2022-01-26 02:57:00\n",
      "3      2022-01-26 11:43:00\n",
      "4      2022-01-26 16:53:00\n",
      "               ...        \n",
      "1189   2022-01-26 17:40:00\n",
      "1190   2022-01-26 20:10:00\n",
      "1191   2022-01-26 15:00:00\n",
      "1192   2022-01-26 12:36:00\n",
      "1193   2022-01-26 23:10:00\n",
      "Name: time24, Length: 1194, dtype: datetime64[ns]\n"
     ]
    },
    {
     "data": {
      "text/plain": [
       "12    103\n",
       "23     68\n",
       "14     66\n",
       "0      65\n",
       "20     65\n",
       "22     64\n",
       "19     58\n",
       "17     56\n",
       "15     55\n",
       "16     54\n",
       "21     53\n",
       "13     53\n",
       "18     50\n",
       "6      47\n",
       "4      46\n",
       "10     38\n",
       "2      37\n",
       "3      34\n",
       "9      33\n",
       "7      32\n",
       "1      31\n",
       "8      31\n",
       "11     28\n",
       "5      27\n",
       "Name: time24, dtype: int64"
      ]
     },
     "execution_count": 26,
     "metadata": {},
     "output_type": "execute_result"
    },
    {
     "data": {
      "image/png": "[encoded data removed]",
      "text/plain": [
       "<Figure size 432x288 with 1 Axes>"
      ]
     },
     "metadata": {
      "needs_background": "light"
     },
     "output_type": "display_data"
    }
   ],
   "source": [
    "posts_data['time24'] = posts_data['time'] + \" \" + posts_data['half_day']\n",
    "posts_data['time24'] = pd.to_datetime(posts_data['time24'])\n",
    "print(posts_data['time24'])\n",
    "posts_data['time24'].dt.hour.hist(bins=24, rwidth=0.5)\n",
    "plt.xticks(rotation=90)\n",
    "\n",
    "posts_data['time24'].dt.hour.value_counts()"
   ]
  }
 ],
 "metadata": {
  "interpreter": {
   "hash": "89b846c87fa7ba0c29f1d88897b6c0f4257bb8e3750e20f38344bf74a1a6ad88"
  },
  "kernelspec": {
   "display_name": "Python 3.9.7 64-bit ('base': conda)",
   "language": "python",
   "name": "python3"
  },
  "language_info": {
   "codemirror_mode": {
    "name": "ipython",
    "version": 3
   },
   "file_extension": ".py",
   "mimetype": "text/x-python",
   "name": "python",
   "nbconvert_exporter": "python",
   "pygments_lexer": "ipython3",
   "version": "3.9.7"
  },
  "orig_nbformat": 4
 },
 "nbformat": 4,
 "nbformat_minor": 2
}
